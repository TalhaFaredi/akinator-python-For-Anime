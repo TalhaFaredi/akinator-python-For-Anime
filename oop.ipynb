{
 "cells": [
  {
   "cell_type": "markdown",
   "metadata": {},
   "source": [
    "\n",
    "\n",
    "## Practicing OOP in python"
   ]
  },
  {
   "cell_type": "code",
   "execution_count": null,
   "metadata": {},
   "outputs": [],
   "source": [
    "class Naruto:\n",
    "    def __init__(self):\n",
    "        self.b = None\n",
    "        self.a = None\n",
    "        self.c = None\n",
    "        self.d =None\n",
    "        self.e = None\n",
    "        self.f = None\n",
    "        self.g = None\n",
    "        \n",
    "    def getdata(self):\n",
    "        print(\"Does Your Character Wear Orange Uniform?\")\n",
    "        print(\"1. Yes \\n2. No\")\n",
    "        self.b = int(input())\n",
    "        \n",
    "        if self.b == 1:\n",
    "            print(\"Colour of your Character\")\n",
    "            print(\"1. yellow \\n2. Pink\")\n",
    "            self.a = int(input())\n",
    "            \n",
    "            if self.a == 1:\n",
    "                print(\"Your Character is Naruto\")\n",
    "        \n",
    "            if self.a == 2:\n",
    "                print(\"there is no chracter of such info\") \n",
    "        if self.b == 2:\n",
    "            print(\"Does Your Character Needs Vessels\")\n",
    "            print(\"1. Yes \\n2. No\")    \n",
    "            self.c = int(input())\n",
    "            if self.c == 1:\n",
    "                print(\"Your Chracter Is Orochimaru\")\n",
    "        if self.c == 2:\n",
    "            print(\"Does Your Character Bleongs to Uchiha Clan\")\n",
    "            print(\"1. Yes \\n2. No\")    \n",
    "            self.d = int(input())\n",
    "            if self.d == 1:\n",
    "                print(\"Does Your Chractter has elder Brother\")    \n",
    "                print(\"1. Yes \\n2. No\")\n",
    "                self.e = int(input())\n",
    "                if self.e == 1:\n",
    "                    print(\"your Character Is sauske uchiha \")\n",
    "                if self.e == 2 :\n",
    "                 print(\"does Your Character Destroy whole clan\")\n",
    "                 print(\"1. Yes \\n2. No\")\n",
    "                 self.f = int(input())\n",
    "                 if self.f == 1:\n",
    "                    print(\"Your Chracter is Itachi Uciha \")\n",
    "                 if self.f == 2:\n",
    "                    print(\"does Your Chracter Was Reincarnated\")    \n",
    "                    print(\"1. Yes \\n2. No\")\n",
    "                    self.g = int(input())\n",
    "                    if self.g == 1:\n",
    "                        print(\"your Charcter is Madra Uchiha \")\n",
    "                    if self.g == 2:\n",
    "                        print(\"Your Character is Obito\")    \n",
    "            if self.d == 2:\n",
    "                print(\"Program is Unnder maintennance\")            \n",
    "\n",
    "\n",
    "\n",
    "obj1 = Naruto()\n",
    "obj1.getdata()"
   ]
  },
  {
   "cell_type": "markdown",
   "metadata": {},
   "source": [
    "## Inheritance "
   ]
  },
  {
   "cell_type": "code",
   "execution_count": 29,
   "metadata": {},
   "outputs": [
    {
     "name": "stdout",
     "output_type": "stream",
     "text": [
      "Name is Inam\n",
      "Age: 50\n",
      "Salary: 80000\n",
      "City name: pakpattan\n",
      "Eye color is brown\n"
     ]
    }
   ],
   "source": [
    "class Father:\n",
    "    def __init__(self):\n",
    "        self.name = \"Inam\"\n",
    "        self.age = 50\n",
    "        self.salary = 80000\n",
    "        self.city = \"pakpattan\"\n",
    "    \n",
    "    def Name(self):\n",
    "        print(\"Name is\", self.name)\n",
    "    \n",
    "    def get_age(self):\n",
    "        return self.age\n",
    "    \n",
    "    def get_salary(self):\n",
    "        return self.salary\n",
    "    \n",
    "    def get_city(self):\n",
    "        return self.city\n",
    "\n",
    "\n",
    "class Mother:\n",
    "    def __init__(self):\n",
    "        self.eye = \"brown\"\n",
    "    \n",
    "    def get_eye_color(self):\n",
    "        return self.eye\n",
    "\n",
    "\n",
    "class Both(Father, Mother):\n",
    "    def __init__(self):\n",
    "        Father.__init__(self)\n",
    "        Mother.__init__(self)\n",
    "    \n",
    "    def print_details(self):\n",
    "        self.Name()\n",
    "        print(\"Age:\", self.get_age())\n",
    "        print(\"Salary:\", self.get_salary())\n",
    "        print(\"City name:\", self.get_city())\n",
    "        print(\"Eye color is\", self.get_eye_color())\n",
    "\n",
    "\n",
    "obj1 = Both()\n",
    "obj1.print_details()"
   ]
  },
  {
   "cell_type": "code",
   "execution_count": null,
   "metadata": {},
   "outputs": [],
   "source": []
  }
 ],
 "metadata": {
  "kernelspec": {
   "display_name": "base",
   "language": "python",
   "name": "python3"
  },
  "language_info": {
   "codemirror_mode": {
    "name": "ipython",
    "version": 3
   },
   "file_extension": ".py",
   "mimetype": "text/x-python",
   "name": "python",
   "nbconvert_exporter": "python",
   "pygments_lexer": "ipython3",
   "version": "3.10.9"
  },
  "orig_nbformat": 4
 },
 "nbformat": 4,
 "nbformat_minor": 2
}
